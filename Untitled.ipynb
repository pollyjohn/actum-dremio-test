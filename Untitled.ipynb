{
 "cells": [
  {
   "cell_type": "code",
   "execution_count": 4,
   "id": "d8dc2d2a-b70d-4b9e-8839-727a03c92a55",
   "metadata": {},
   "outputs": [
    {
     "name": "stdout",
     "output_type": "stream",
     "text": [
      "0.00411522633744856\n"
     ]
    }
   ],
   "source": [
    "print(3**5/(3**5)/3**5)"
   ]
  },
  {
   "cell_type": "code",
   "execution_count": null,
   "id": "8e586cc4-32f5-472b-81dd-296c72e799d2",
   "metadata": {},
   "outputs": [],
   "source": []
  },
  {
   "cell_type": "code",
   "execution_count": 11,
   "id": "49553f7f-5a2b-4928-b208-3ce59b8928c9",
   "metadata": {},
   "outputs": [],
   "source": [
    "from python import Python"
   ]
  },
  {
   "cell_type": "code",
   "execution_count": 15,
   "id": "16022bfe-d20e-4cf9-aa9a-024fbdd14e0b",
   "metadata": {},
   "outputs": [],
   "source": [
    "let plt = Python.import_module(\"matplotlib.pyplot\")"
   ]
  },
  {
   "cell_type": "code",
   "execution_count": 18,
   "id": "0e603127-454c-4a61-972b-473e520f2a7c",
   "metadata": {},
   "outputs": [],
   "source": [
    "import pyarrow as pa\n",
    "import pyarrow.dataset as ds\n",
    "import pandas as pd\n",
    "from datetime import datetime\n",
    "import boto3\n",
    "import s3fs\n",
    "import os\n",
    "from faker import Faker "
   ]
  },
  {
   "cell_type": "code",
   "execution_count": 19,
   "id": "a9168165-5952-45f3-8646-f85b1f36a07a",
   "metadata": {},
   "outputs": [],
   "source": [
    "fake = Faker()"
   ]
  },
  {
   "cell_type": "code",
   "execution_count": 20,
   "id": "9493f10b-af82-400b-a5ee-53596f3e20bb",
   "metadata": {},
   "outputs": [],
   "source": [
    "client = boto3.client('s3',\n",
    "    region_name = 'sa-east-1')"
   ]
  },
  {
   "cell_type": "code",
   "execution_count": 21,
   "id": "dc9b503f-f526-4786-b3d8-b859b1a725e4",
   "metadata": {},
   "outputs": [],
   "source": [
    "bucket_name = 'actum-dremio-test'\n",
    "pyarrow_files = \"pyarrow_files\""
   ]
  },
  {
   "cell_type": "code",
   "execution_count": null,
   "id": "4fc30f9f-8425-43a6-ace5-672aea0ab37e",
   "metadata": {},
   "outputs": [
    {
     "name": "stderr",
     "output_type": "stream",
     "text": [
      "error: \u001b[0;1;31m\u001b[1mExpression [24]:4:19: \u001b[0m\u001b[1mTODO: cannot emit dictionary literals yet\n",
      "\u001b[0m    sensor_data = {\n",
      "\u001b[0;1;32m                  ^\n",
      "\u001b[0m\u001b[0m\n",
      "error: \u001b[0;1;31m\u001b[1mExpression [24]:16:24: \u001b[0m\u001b[1muse of unknown declaration 'fake'\n",
      "\u001b[0m    s3_object_prefix = fake.coordinate()\n",
      "\u001b[0;1;32m                       ^~~~\n",
      "\u001b[0m\u001b[0m\n",
      "error: \u001b[0;1;31m\u001b[1mExpression [24]:19:21: \u001b[0m\u001b[1muse of unknown declaration 'f'\n",
      "\u001b[0m    s3_object_key = f'{s3_object_prefix}_iteration_{i}.arrow'\n",
      "\u001b[0;1;32m                    ^\n",
      "\u001b[0m\u001b[0m\n",
      "error: \u001b[0;1;31m\u001b[1mExpression [24]:19:22: \u001b[0m\u001b[1mstatements must start at the beginning of a line\n",
      "\u001b[0m    s3_object_key = f'{s3_object_prefix}_iteration_{i}.arrow'\n",
      "\u001b[0;1;32m                     ^\n",
      "\u001b[0m\u001b[0m\n",
      "expression failed to parse (no further compiler diagnostics)"
     ]
    }
   ],
   "source": [
    "num_records = 95174\n",
    "\n",
    "for i in range(num_records):\n",
    "    sensor_data = {\n",
    "        \"timestamp\" : fake.date_time_this_decade(),\n",
    "        \"sensor_id\" : fake.uuid4(),\n",
    "        \"temperature\" : round(random.uniform(10.0, 40.0), 2),\n",
    "        \"humidity\" : round(random.uniform(30.0, 70.0), 2),\n",
    "        \"pressure\" : round(random.uniform(900.0, 1100.0), 2)\n",
    "    }\n",
    "\n",
    "\n",
    "\n",
    "    table = pa.Table.from_pandas(pd.DataFrame([sensor_data]))\n",
    "\n",
    "    s3_object_prefix = fake.coordinate()\n",
    "    \n",
    "\n",
    "    s3_object_key = f'{s3_object_prefix}_iteration_{i}.arrow'\n",
    "\n",
    "    pyarrow_file_c = os.path.join(pyarrow_files, os.path.basename(s3_object_key))\n",
    "\n",
    "    try:\n",
    "        with pa.BufferOutputStream() as stream:\n",
    "            with pa.RecordBatchFileWriter(stream, table.schema) as writer:\n",
    "                writer.write_table(table)\n",
    "\n",
    "            client.put_object(Body=stream.getvalue().to_pybytes(), Bucket=bucket_name, Key=pyarrow_file_c)\n",
    "            print(f'Successfully uploaded iteration {i} to S3: {s3_object_key}')\n",
    "    except Exception as e:\n",
    "        print('Credentials not available')"
   ]
  },
  {
   "cell_type": "code",
   "execution_count": null,
   "id": "a496916d-6507-4a64-bc72-c30912dbabdc",
   "metadata": {},
   "outputs": [
    {
     "name": "stderr",
     "output_type": "stream",
     "text": [
      "error: \u001b[0;1;31m\u001b[1mExpression [28]:4:19: \u001b[0m\u001b[1mTODO: cannot emit dictionary literals yet\n",
      "\u001b[0m    sensor_data = {\"timestamp\": \"2023-10-31 12:00:00\",  \"sensor_id\": str(uuid.uuid4()), \"temperature\": round(random.uniform(10.0, 40.0), 2), \"humidity\": round(random.uniform(30.0, 70.0), 2),\"pressure\": round(random.uniform(900.0, 1100.0), 2)}\n",
      "\u001b[0;1;32m                  ^~~~~~~~~~~~~~~~~~~~~~~~~~~~~~~~~~~~~~~~~~~~~~~~~~~~~~~~~~~~~~~~~~~~~~~~~~~~~~~~~~~~~~~~~~~~~~~~~~~~~~~~~~~~~~~~~~~~~~~~~~~~~~~~~~~~~~~~~~~~~~~~~~~~~~~~~~~~~~~~~~~~~~~~~~~~~~~~~~~~~~~~~~~~~~~~~~~~~~~~~~~~~~~~~~~~~~~~~~~~~~~~\n",
      "\u001b[0m\u001b[0m\n",
      "error: \u001b[0;1;31m\u001b[1mExpression [28]:12:24: \u001b[0m\u001b[1mpackage 'os' does not contain 'path'\n",
      "\u001b[0m    pyarrow_file_c = os.path.join(pyarrow_files, os.path.basename(s3_object_key))\n",
      "\u001b[0;1;32m                       ^\n",
      "\u001b[0m\u001b[0m\n",
      "error: \u001b[0;1;31m\u001b[1mExpression [28]:19:13: \u001b[0m\u001b[1muse of unknown declaration 'client'\n",
      "\u001b[0m            client.put_object(Body=stream.getvalue().to_pybytes(), Bucket=bucket_name, Key=pyarrow_file_c)\n",
      "\u001b[0;1;32m            ^~~~~~\n",
      "\u001b[0m\u001b[0m\n",
      "error: \u001b[0;1;31m\u001b[1mExpression [28]:20:20: \u001b[0m\u001b[1mexpected ')' in call argument list\n",
      "\u001b[0m            print(f'Successfully uploaded iteration {i} to S3: {s3_object_key}')\n",
      "\u001b[0;1;32m                   ^\n",
      "\u001b[0m\u001b[0m\n",
      "expression failed to parse (no further compiler diagnostics)"
     ]
    }
   ],
   "source": [
    "num_records = 95174\n",
    "\n",
    "for i in range(num_records):\n",
    "    sensor_data = {\"timestamp\": \"2023-10-31 12:00:00\",  \"sensor_id\": str(uuid.uuid4()), \"temperature\": round(random.uniform(10.0, 40.0), 2), \"humidity\": round(random.uniform(30.0, 70.0), 2),\"pressure\": round(random.uniform(900.0, 1100.0), 2)}\n",
    "\n",
    "    table = pa.Table.from_pandas(pd.DataFrame([sensor_data]))\n",
    "\n",
    "    s3_object_prefix = \"prefix\"  \n",
    "\n",
    "    s3_object_key = s3_object_prefix + '_iteration.arrow'\n",
    "\n",
    "    pyarrow_file_c = os.path.join(pyarrow_files, os.path.basename(s3_object_key))\n",
    "\n",
    "    try:\n",
    "        with pa.BufferOutputStream() as stream:\n",
    "            with pa.RecordBatchFileWriter(stream, table.schema) as writer:\n",
    "                writer.write_table(table)\n",
    "\n",
    "            client.put_object(Body=stream.getvalue().to_pybytes(), Bucket=bucket_name, Key=pyarrow_file_c)\n",
    "            print(f'Successfully uploaded iteration {i} to S3: {s3_object_key}')\n",
    "    except Exception as e:\n",
    "        print('Error:', str(e))\n"
   ]
  },
  {
   "cell_type": "code",
   "execution_count": null,
   "id": "022f3d78-fdee-47f1-92da-f93944f59403",
   "metadata": {},
   "outputs": [],
   "source": []
  }
 ],
 "metadata": {
  "kernelspec": {
   "display_name": "Mojo",
   "language": "mojo",
   "name": "mojo-jupyter-kernel"
  },
  "language_info": {
   "codemirror_mode": {
    "name": "mojo"
   },
   "file_extension": ".mojo",
   "mimetype": "text/x-mojo",
   "name": "mojo"
  }
 },
 "nbformat": 4,
 "nbformat_minor": 5
}
