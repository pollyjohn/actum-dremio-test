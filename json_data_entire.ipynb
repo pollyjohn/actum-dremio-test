{
 "cells": [
  {
   "cell_type": "code",
   "execution_count": 5,
   "id": "1dbdbf4e-5a37-4584-ab59-7f2601a2e61c",
   "metadata": {},
   "outputs": [],
   "source": [
    "import boto3\n",
    "import s3fs\n",
    "\n",
    "client = boto3.client(\"s3\",\n",
    "                        region_name = 'sa-east-1'\n",
    "                     )"
   ]
  },
  {
   "cell_type": "code",
   "execution_count": 8,
   "id": "fc01e618-7d33-4096-867f-53ee954ec5f0",
   "metadata": {},
   "outputs": [
    {
     "name": "stdout",
     "output_type": "stream",
     "text": [
      "CPU times: user 18.1 ms, sys: 0 ns, total: 18.1 ms\n",
      "Wall time: 16.9 ms\n"
     ]
    }
   ],
   "source": [
    "%%time\n",
    "from faker import Faker \n",
    "import json\n",
    "import random\n",
    "import pandas as pd\n",
    "from datetime import datetime\n",
    "\n",
    "fake = Faker()"
   ]
  },
  {
   "cell_type": "code",
   "execution_count": 23,
   "id": "b0ef98c2-dbfd-4aa5-b304-8adc04b73939",
   "metadata": {},
   "outputs": [],
   "source": [
    "bucket_name = 'actum-dremio-test'\n",
    "prefixo_s3 = ''\n",
    "folder_name = 'json_files///'"
   ]
  },
  {
   "cell_type": "code",
   "execution_count": 32,
   "id": "31fe1949-11b2-4ffb-8966-fcbae5d5aa00",
   "metadata": {},
   "outputs": [
    {
     "name": "stdout",
     "output_type": "stream",
     "text": [
      "Successfully uploaded iot_data.json to S3: json_file_entire/iot_data.json\n"
     ]
    }
   ],
   "source": [
    "# Generate IoT data as a list of dictionaries\n",
    "num_records = 100000\n",
    "\n",
    "iot_data = []\n",
    "\n",
    "for _ in range(num_records):\n",
    "    sensor_data = {\n",
    "        \"timestamp\": fake.date_time_this_decade(),\n",
    "        \"sensor_id\": fake.uuid4(),\n",
    "        \"temperature\": round(random.uniform(10.0, 40.0), 2),\n",
    "        \"humidity\": round(random.uniform(30.0, 70.0), 2),\n",
    "        \"pressure\": round(random.uniform(900.0, 1100.0), 2)\n",
    "    }\n",
    "    iot_data.append(sensor_data)\n",
    "def datetime_serializer(obj):\n",
    "    if isinstance(obj, datetime):\n",
    "        return obj.isoformat()\n",
    "        \n",
    "# Convert the list of dictionaries to a JSON string\n",
    "json_string = json.dumps(iot_data, indent=2, default = datetime_serializer)\n",
    "\n",
    "# Specify the S3 object key for the JSON file within the bucket\n",
    "s3_object_key = 'json_file_entire/iot_data.json' \n",
    "\n",
    "# Upload the JSON string to S3\n",
    "try:\n",
    "    client.put_object(Body=json_string, Bucket=bucket_name, Key=s3_object_key)\n",
    "    print(f'Successfully uploaded iot_data.json to S3: {s3_object_key}')\n",
    "except NoCredentialsError:\n",
    "    print('Credentials not available')"
   ]
  },
  {
   "cell_type": "code",
   "execution_count": 41,
   "id": "e9f227b5-6a9d-4b68-bed1-083746a9112e",
   "metadata": {},
   "outputs": [],
   "source": [
    "response = client.get_object(Bucket=bucket_name, Key='json_file_entire/iot_data.json')"
   ]
  },
  {
   "cell_type": "code",
   "execution_count": 37,
   "id": "773fb03a-42fe-4754-a0be-a6297234ba51",
   "metadata": {},
   "outputs": [
    {
     "data": {
      "text/plain": [
       "''"
      ]
     },
     "execution_count": 37,
     "metadata": {},
     "output_type": "execute_result"
    }
   ],
   "source": [
    "response['Body'].read().decode('utf-8')"
   ]
  },
  {
   "cell_type": "code",
   "execution_count": 26,
   "id": "3fb8bbb9-5fb1-4270-9abb-856c8118d49e",
   "metadata": {},
   "outputs": [],
   "source": [
    "json_string = response['Body'].read().decode('utf-8')"
   ]
  },
  {
   "cell_type": "code",
   "execution_count": 27,
   "id": "47a21ccf-b47b-4295-9f50-5934991c825a",
   "metadata": {},
   "outputs": [],
   "source": [
    "import io"
   ]
  },
  {
   "cell_type": "code",
   "execution_count": null,
   "id": "fc84c779-106b-4647-b036-13db3d475feb",
   "metadata": {
    "scrolled": true
   },
   "outputs": [],
   "source": [
    "json_file = io.StringIO(json_string)\n",
    "\n",
    "# Now you can use pd.read_json to create a DataFrame\n",
    "df = pd.read_json(json_file, lines=True)"
   ]
  },
  {
   "cell_type": "code",
   "execution_count": null,
   "id": "30467219-b800-475a-bb02-9af79e67d7f6",
   "metadata": {
    "scrolled": true
   },
   "outputs": [],
   "source": [
    "import json\n",
    "\n",
    "# Lê o conteúdo do corpo da resposta\n",
    "content = b''\n",
    "for chunk in response['Body'].iter_chunks():\n",
    "    content += chunk\n",
    "\n",
    "# Decodifica o conteúdo como uma string usando utf-8\n",
    "content_str = content.decode('utf-8')\n",
    "\n",
    "# Converte a string JSON para um DataFrame do pandas\n",
    "df = pd.read_json(json.loads(content_str), orient='records', lines=True)"
   ]
  },
  {
   "cell_type": "code",
   "execution_count": 31,
   "id": "688ed208-3797-4c92-8f6e-007e0fb9b927",
   "metadata": {
    "scrolled": true
   },
   "outputs": [
    {
     "data": {
      "text/html": [
       "<div>\n",
       "<style scoped>\n",
       "    .dataframe tbody tr th:only-of-type {\n",
       "        vertical-align: middle;\n",
       "    }\n",
       "\n",
       "    .dataframe tbody tr th {\n",
       "        vertical-align: top;\n",
       "    }\n",
       "\n",
       "    .dataframe thead th {\n",
       "        text-align: right;\n",
       "    }\n",
       "</style>\n",
       "<table border=\"1\" class=\"dataframe\">\n",
       "  <thead>\n",
       "    <tr style=\"text-align: right;\">\n",
       "      <th></th>\n",
       "    </tr>\n",
       "  </thead>\n",
       "  <tbody>\n",
       "  </tbody>\n",
       "</table>\n",
       "</div>"
      ],
      "text/plain": [
       "Empty DataFrame\n",
       "Columns: []\n",
       "Index: []"
      ]
     },
     "execution_count": 31,
     "metadata": {},
     "output_type": "execute_result"
    }
   ],
   "source": [
    "df"
   ]
  },
  {
   "cell_type": "code",
   "execution_count": null,
   "id": "9e0fc27c-708b-4808-874b-e85634376acc",
   "metadata": {},
   "outputs": [],
   "source": [
    "response = client.get"
   ]
  }
 ],
 "metadata": {
  "kernelspec": {
   "display_name": "Python 3 (ipykernel)",
   "language": "python",
   "name": "python3"
  },
  "language_info": {
   "codemirror_mode": {
    "name": "ipython",
    "version": 3
   },
   "file_extension": ".py",
   "mimetype": "text/x-python",
   "name": "python",
   "nbconvert_exporter": "python",
   "pygments_lexer": "ipython3",
   "version": "3.12.0"
  }
 },
 "nbformat": 4,
 "nbformat_minor": 5
}
